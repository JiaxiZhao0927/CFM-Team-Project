{
 "cells": [
  {
   "cell_type": "code",
   "execution_count": 1,
   "metadata": {},
   "outputs": [],
   "source": [
    "#These are the libraries you can use.  You may add any libraries directy related to threading if this is a direction\n",
    "#you wish to go (this is not from the course, so it's entirely on you if you wish to use threading).  Any\n",
    "#further libraries you wish to use you must email me, james@uwaterloo.ca, for permission.\n",
    "\n",
    "from IPython.display import display, Math, Latex\n",
    "\n",
    "import pandas as pd\n",
    "import numpy as np\n",
    "import numpy_financial as npf\n",
    "import yfinance as yf\n",
    "import matplotlib.pyplot as plt\n",
    "import random\n",
    "from datetime import datetime"
   ]
  },
  {
   "cell_type": "markdown",
   "metadata": {},
   "source": [
    "## Group Assignment\n",
    "### Team Number: 17\n",
    "### Team Member Names: Jack, Jennifer, Justus, Precious\n",
    "### Team Strategy Chosen: Market Meet (Market Beat or Market Meet)"
   ]
  },
  {
   "cell_type": "markdown",
   "metadata": {},
   "source": [
    "Disclose any use of AI for this assignment below (detail where and how you used it).  Please see the course outline for acceptable uses of AI.\n"
   ]
  },
  {
   "cell_type": "code",
   "execution_count": null,
   "metadata": {},
   "outputs": [],
   "source": [
    "# filter reads a csv and returns stocks that meet the requirement\n",
    "def filter(path):\n",
    "    dataframe = pd.read_csv(path)\n",
    "    return dataframe"
   ]
  },
  {
   "cell_type": "code",
   "execution_count": null,
   "metadata": {},
   "outputs": [],
   "source": [
    "# Default weight on the four (maybe more or less) factors (can be adjusted)\n",
    "market_value_weight = 0.25\n",
    "returns_weight = 0.15\n",
    "volatility_weight = 0.20\n",
    "beta_weight = 0.40\n",
    "\n",
    "# achieve data from yahoo finance\n",
    "total_market_value = 0\n",
    "market_returns = 0\n",
    "market_volatility = 0\n",
    "market_beta = 0\n",
    "\n",
    "# rating gives every stock a rating and sorts them in non-increasing order\n",
    "# Four factors to be considered:\n",
    "    # 1. Market Value (weight 25%)\n",
    "    # 2. Returns (weight 15%)\n",
    "    # 3. Volatility (weight 20%)\n",
    "    # 4. Beta (weight 40%)\n",
    "# The rating should between 0 and 1. A higher rating means the stock aligns better with the true market index.\n",
    "def rating(dataframe):\n",
    "    for stock in dataframe:\n",
    "        # Step 1: Calculate Market Value Score (Formula: Stock's Market Value / Total Market Value)\n",
    "        stock_market_value = INSERT_CODE\n",
    "        market_value_score = stock_market_value / total_market_value\n",
    "        weighted_market_value_score = market_value_weight * market_value_score\n",
    "\n",
    "        # Step 2: Calculate Returns Score (Formula: 1 - abs((Stock's Returns - Market Returns) / Market Returns))\n",
    "        stock_returns = INSERT_CODE\n",
    "        returns_score = 1 - abs((stock_returns - market_returns) / market_returns)\n",
    "        weighted_returns_score = returns_weight * returns_score\n",
    "\n",
    "        # Step 3: Calculate Volatility Score (Formula: 1 - abs((Stock's Volatility - Market Volatility) / Market Volatility))\n",
    "        stock_volatility = INSERT_CODE\n",
    "        volatility_score = 1 - abs((stock_volatility - market_volatility) / market_volatility)\n",
    "        weighted_volatility_score = volatility_weight * volatility_score\n",
    "\n",
    "        # Step 4: Calculate Volatility Score (Formula: 1 - abs((Stock's Beta - Market Beta) / Market Beta))\n",
    "        stock_beta = INSERT_CODE\n",
    "        beta_score = 1 - abs((stock_beta - market_beta) / market_beta)\n",
    "        weighted_beta_score = beta_weight * beta_score\n",
    "\n",
    "        # Step 5: Calculate rating of the stock based on weight\n",
    "        rating = weighted_market_value_score + weighted_returns_score + weighted_volatility_score + weighted_beta_score\n",
    "        dataframe.at[stock, 'rating'] = rating\n",
    "\n",
    "    # Sort the rating in descending order\n",
    "    sorted_df = dataframe.sort_values(by='rating', ascending=False)\n",
    "    return sorted_df"
   ]
  },
  {
   "cell_type": "code",
   "execution_count": null,
   "metadata": {},
   "outputs": [],
   "source": [
    "def select_stocks():"
   ]
  },
  {
   "cell_type": "code",
   "execution_count": null,
   "metadata": {},
   "outputs": [],
   "source": [
    "def build_portfolio():\n",
    "    return portfolio"
   ]
  },
  {
   "cell_type": "markdown",
   "metadata": {},
   "source": [
    "## Contribution Declaration\n",
    "\n",
    "The following team members made a meaningful contribution to this assignment:\n",
    "\n",
    "Insert Names Here."
   ]
  }
 ],
 "metadata": {
  "kernelspec": {
   "display_name": "Python 3 (ipykernel)",
   "language": "python",
   "name": "python3"
  },
  "language_info": {
   "codemirror_mode": {
    "name": "ipython",
    "version": 3
   },
   "file_extension": ".py",
   "mimetype": "text/x-python",
   "name": "python",
   "nbconvert_exporter": "python",
   "pygments_lexer": "ipython3",
   "version": "3.12.4"
  }
 },
 "nbformat": 4,
 "nbformat_minor": 4
}
